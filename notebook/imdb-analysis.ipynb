{
 "cells": [
  {
   "cell_type": "code",
   "execution_count": 2,
   "metadata": {},
   "outputs": [],
   "source": [
    "import pandas as pd\n",
    "import numpy as np"
   ]
  },
  {
   "attachments": {},
   "cell_type": "markdown",
   "metadata": {},
   "source": [
    "## set display options for viewing result"
   ]
  },
  {
   "cell_type": "code",
   "execution_count": 3,
   "metadata": {},
   "outputs": [],
   "source": [
    "pd.set_option('display.max_columns', None)\n",
    "pd.set_option('display.max_rows', None)\n",
    "pd.set_option('display.max_colwidth', None)"
   ]
  },
  {
   "attachments": {},
   "cell_type": "markdown",
   "metadata": {},
   "source": [
    "## read movie information"
   ]
  },
  {
   "cell_type": "code",
   "execution_count": 4,
   "metadata": {},
   "outputs": [],
   "source": [
    "movies_df = pd.read_csv('https://datasets.imdbws.com/title.basics.tsv.gz',header=0, index_col=None, sep='\\t', dtype=str, compression='gzip')\n",
    "\n",
    "# replace NaN with None\n",
    "movies_df.replace({np.nan:None}, inplace=True)"
   ]
  },
  {
   "attachments": {},
   "cell_type": "markdown",
   "metadata": {},
   "source": [
    "## read ratings information"
   ]
  },
  {
   "cell_type": "code",
   "execution_count": 5,
   "metadata": {},
   "outputs": [],
   "source": [
    "# cast numeric data to appropriate data type as we will be filtering based on these numeric fields:\n",
    "\n",
    "ratings_df = pd.read_csv('https://datasets.imdbws.com/title.ratings.tsv.gz', header=0,index_col=None,sep='\\t',converters={'tconst': str, 'averageRating': float, 'numVotes': int}, compression='gzip')\n",
    "\n",
    "# replace NaN with None\n",
    "ratings_df.replace({np.nan:None}, inplace=True)"
   ]
  },
  {
   "attachments": {},
   "cell_type": "markdown",
   "metadata": {},
   "source": [
    "## clean column name and data"
   ]
  },
  {
   "cell_type": "code",
   "execution_count": 6,
   "metadata": {},
   "outputs": [],
   "source": [
    "movies_df.columns = [col.lower() for col in movies_df.columns]\n",
    "ratings_df.columns = [col.lower() for col in ratings_df.columns]"
   ]
  },
  {
   "attachments": {},
   "cell_type": "markdown",
   "metadata": {},
   "source": [
    "## print data types of both dataframes"
   ]
  },
  {
   "cell_type": "code",
   "execution_count": 6,
   "metadata": {},
   "outputs": [
    {
     "data": {
      "text/plain": [
       "tconst            object\n",
       "titletype         object\n",
       "primarytitle      object\n",
       "originaltitle     object\n",
       "isadult           object\n",
       "startyear         object\n",
       "endyear           object\n",
       "runtimeminutes    object\n",
       "genres            object\n",
       "dtype: object"
      ]
     },
     "execution_count": 6,
     "metadata": {},
     "output_type": "execute_result"
    }
   ],
   "source": [
    "movies_df.dtypes"
   ]
  },
  {
   "cell_type": "code",
   "execution_count": 7,
   "metadata": {},
   "outputs": [
    {
     "data": {
      "text/plain": [
       "tconst            object\n",
       "averagerating    float64\n",
       "numvotes           int64\n",
       "dtype: object"
      ]
     },
     "execution_count": 7,
     "metadata": {},
     "output_type": "execute_result"
    }
   ],
   "source": [
    "ratings_df.dtypes"
   ]
  },
  {
   "attachments": {},
   "cell_type": "markdown",
   "metadata": {},
   "source": [
    "## merge dataframes to analyze movies data"
   ]
  },
  {
   "cell_type": "code",
   "execution_count": 8,
   "metadata": {},
   "outputs": [],
   "source": [
    "merged_df = movies_df.merge(ratings_df, how='left', on='tconst')"
   ]
  },
  {
   "cell_type": "code",
   "execution_count": 9,
   "metadata": {},
   "outputs": [],
   "source": [
    "# getting movies released after 2010 with avg rating above 7 and number of votes > 5000:\n",
    "req_movies_df = merged_df[(merged_df['numvotes'] > 5000) & (merged_df['averagerating'] > 7.0) & (merged_df['startyear'] > '2010') & (merged_df['titletype']=='movie')][['primarytitle', 'isadult', 'startyear', 'runtimeminutes', 'genres', 'averagerating', 'numvotes']]"
   ]
  },
  {
   "cell_type": "code",
   "execution_count": 11,
   "metadata": {},
   "outputs": [
    {
     "name": "stdout",
     "output_type": "stream",
     "text": [
      "cast error while processing runtimeminutes: invalid literal for int() with base 10: '\\\\N'\n"
     ]
    }
   ],
   "source": [
    "# set appropriate datatype for req_movies_df:\n",
    "\n",
    "col_dtypes = {\n",
    "    'primarytitle': str,\n",
    "    'isadult': int,\n",
    "    'startyear': int,\n",
    "    'runtimeminutes': int,\n",
    "    'genres': str,\n",
    "    'averagerating': float,\n",
    "    'numvotes': int\n",
    "}\n",
    "\n",
    "for col, dtype in col_dtypes.items():\n",
    "    try:\n",
    "        req_movies_df[col] = req_movies_df[col].astype(dtype)\n",
    "    except Exception as err:\n",
    "        print(f\"cast error while processing {col}: {err}\")\n",
    "        continue"
   ]
  },
  {
   "attachments": {},
   "cell_type": "markdown",
   "metadata": {},
   "source": [
    "## view the req_movies_df"
   ]
  },
  {
   "cell_type": "code",
   "execution_count": 12,
   "metadata": {},
   "outputs": [
    {
     "data": {
      "text/html": [
       "<div>\n",
       "<style scoped>\n",
       "    .dataframe tbody tr th:only-of-type {\n",
       "        vertical-align: middle;\n",
       "    }\n",
       "\n",
       "    .dataframe tbody tr th {\n",
       "        vertical-align: top;\n",
       "    }\n",
       "\n",
       "    .dataframe thead th {\n",
       "        text-align: right;\n",
       "    }\n",
       "</style>\n",
       "<table border=\"1\" class=\"dataframe\">\n",
       "  <thead>\n",
       "    <tr style=\"text-align: right;\">\n",
       "      <th></th>\n",
       "      <th>primarytitle</th>\n",
       "      <th>isadult</th>\n",
       "      <th>startyear</th>\n",
       "      <th>runtimeminutes</th>\n",
       "      <th>genres</th>\n",
       "      <th>averagerating</th>\n",
       "      <th>numvotes</th>\n",
       "    </tr>\n",
       "  </thead>\n",
       "  <tbody>\n",
       "    <tr>\n",
       "      <th>302128</th>\n",
       "      <td>Wazir</td>\n",
       "      <td>0</td>\n",
       "      <td>2016</td>\n",
       "      <td>103</td>\n",
       "      <td>Action,Crime,Drama</td>\n",
       "      <td>7.1</td>\n",
       "      <td>19246</td>\n",
       "    </tr>\n",
       "    <tr>\n",
       "      <th>344879</th>\n",
       "      <td>The Secret Life of Walter Mitty</td>\n",
       "      <td>0</td>\n",
       "      <td>2013</td>\n",
       "      <td>114</td>\n",
       "      <td>Adventure,Comedy,Drama</td>\n",
       "      <td>7.3</td>\n",
       "      <td>319567</td>\n",
       "    </tr>\n",
       "    <tr>\n",
       "      <th>419479</th>\n",
       "      <td>Alita: Battle Angel</td>\n",
       "      <td>0</td>\n",
       "      <td>2019</td>\n",
       "      <td>122</td>\n",
       "      <td>Action,Adventure,Sci-Fi</td>\n",
       "      <td>7.3</td>\n",
       "      <td>270061</td>\n",
       "    </tr>\n",
       "    <tr>\n",
       "      <th>425524</th>\n",
       "      <td>Lincoln</td>\n",
       "      <td>0</td>\n",
       "      <td>2012</td>\n",
       "      <td>150</td>\n",
       "      <td>Biography,Drama,History</td>\n",
       "      <td>7.3</td>\n",
       "      <td>262051</td>\n",
       "    </tr>\n",
       "  </tbody>\n",
       "</table>\n",
       "</div>"
      ],
      "text/plain": [
       "                           primarytitle  isadult  startyear runtimeminutes  \\\n",
       "302128                            Wazir        0       2016            103   \n",
       "344879  The Secret Life of Walter Mitty        0       2013            114   \n",
       "419479              Alita: Battle Angel        0       2019            122   \n",
       "425524                          Lincoln        0       2012            150   \n",
       "\n",
       "                         genres  averagerating  numvotes  \n",
       "302128       Action,Crime,Drama            7.1     19246  \n",
       "344879   Adventure,Comedy,Drama            7.3    319567  \n",
       "419479  Action,Adventure,Sci-Fi            7.3    270061  \n",
       "425524  Biography,Drama,History            7.3    262051  "
      ]
     },
     "execution_count": 12,
     "metadata": {},
     "output_type": "execute_result"
    }
   ],
   "source": [
    "req_movies_df.head(4)"
   ]
  },
  {
   "attachments": {},
   "cell_type": "markdown",
   "metadata": {},
   "source": [
    "## get streaming info from imdb datasets"
   ]
  },
  {
   "cell_type": "code",
   "execution_count": 13,
   "metadata": {},
   "outputs": [],
   "source": [
    "streaming_availability = pd.read_csv('../dataset/MoviesOnStreamingPlatforms_updated.csv', header=0, index_col=None, converters={'Title': str, 'Year': int, 'Rotten Tomatoes': str, 'Netflix': lambda x: int(x) if len(x) == 1 else 1, 'Prime Video': int, 'Hulu': int, 'Disney+': int, 'Language': str})\n",
    "streaming_availability.replace({np.nan:None}, inplace=True)"
   ]
  },
  {
   "cell_type": "code",
   "execution_count": 14,
   "metadata": {},
   "outputs": [],
   "source": [
    "# clean column names to uniform lowercase:\n",
    "\n",
    "streaming_availability.columns = [col.lower() for col in streaming_availability.columns]"
   ]
  },
  {
   "attachments": {},
   "cell_type": "markdown",
   "metadata": {},
   "source": [
    "## enrich req_movies_df with streaming information with available data"
   ]
  },
  {
   "cell_type": "code",
   "execution_count": 15,
   "metadata": {},
   "outputs": [],
   "source": [
    "# convert title to lowercase to use as join key:\n",
    "\n",
    "req_movies_df['primarytitle'] = req_movies_df['primarytitle'].apply(lambda x: x.lower())\n",
    "streaming_availability['title'] = streaming_availability['title'].apply(lambda x: x.lower())"
   ]
  },
  {
   "attachments": {},
   "cell_type": "markdown",
   "metadata": {},
   "source": [
    "## merge req_movies_df with streaming availability info"
   ]
  },
  {
   "cell_type": "code",
   "execution_count": 16,
   "metadata": {},
   "outputs": [],
   "source": [
    "enriched_movie_df = req_movies_df.merge(streaming_availability, left_on='primarytitle', right_on='title', how='left')"
   ]
  },
  {
   "cell_type": "code",
   "execution_count": 17,
   "metadata": {},
   "outputs": [],
   "source": [
    "enriched_movie_df.replace({np.nan:None}, inplace=True)"
   ]
  },
  {
   "cell_type": "code",
   "execution_count": 18,
   "metadata": {},
   "outputs": [
    {
     "data": {
      "text/html": [
       "<div>\n",
       "<style scoped>\n",
       "    .dataframe tbody tr th:only-of-type {\n",
       "        vertical-align: middle;\n",
       "    }\n",
       "\n",
       "    .dataframe tbody tr th {\n",
       "        vertical-align: top;\n",
       "    }\n",
       "\n",
       "    .dataframe thead th {\n",
       "        text-align: right;\n",
       "    }\n",
       "</style>\n",
       "<table border=\"1\" class=\"dataframe\">\n",
       "  <thead>\n",
       "    <tr style=\"text-align: right;\">\n",
       "      <th></th>\n",
       "      <th>primarytitle</th>\n",
       "      <th>isadult</th>\n",
       "      <th>startyear</th>\n",
       "      <th>runtimeminutes</th>\n",
       "      <th>genres_x</th>\n",
       "      <th>averagerating</th>\n",
       "      <th>numvotes</th>\n",
       "      <th>id</th>\n",
       "      <th>title</th>\n",
       "      <th>year</th>\n",
       "      <th>age</th>\n",
       "      <th>imdb</th>\n",
       "      <th>rotten tomatoes</th>\n",
       "      <th>netflix</th>\n",
       "      <th>hulu</th>\n",
       "      <th>prime video</th>\n",
       "      <th>disney+</th>\n",
       "      <th>type</th>\n",
       "      <th>directors</th>\n",
       "      <th>genres_y</th>\n",
       "      <th>country</th>\n",
       "      <th>language</th>\n",
       "      <th>runtime</th>\n",
       "    </tr>\n",
       "  </thead>\n",
       "  <tbody>\n",
       "    <tr>\n",
       "      <th>0</th>\n",
       "      <td>wazir</td>\n",
       "      <td>0</td>\n",
       "      <td>2016</td>\n",
       "      <td>103</td>\n",
       "      <td>Action,Crime,Drama</td>\n",
       "      <td>7.1</td>\n",
       "      <td>19246</td>\n",
       "      <td>None</td>\n",
       "      <td>None</td>\n",
       "      <td>None</td>\n",
       "      <td>None</td>\n",
       "      <td>None</td>\n",
       "      <td>None</td>\n",
       "      <td>None</td>\n",
       "      <td>None</td>\n",
       "      <td>None</td>\n",
       "      <td>None</td>\n",
       "      <td>None</td>\n",
       "      <td>None</td>\n",
       "      <td>None</td>\n",
       "      <td>None</td>\n",
       "      <td>None</td>\n",
       "      <td>None</td>\n",
       "    </tr>\n",
       "    <tr>\n",
       "      <th>1</th>\n",
       "      <td>the secret life of walter mitty</td>\n",
       "      <td>0</td>\n",
       "      <td>2013</td>\n",
       "      <td>114</td>\n",
       "      <td>Adventure,Comedy,Drama</td>\n",
       "      <td>7.3</td>\n",
       "      <td>319567</td>\n",
       "      <td>None</td>\n",
       "      <td>None</td>\n",
       "      <td>None</td>\n",
       "      <td>None</td>\n",
       "      <td>None</td>\n",
       "      <td>None</td>\n",
       "      <td>None</td>\n",
       "      <td>None</td>\n",
       "      <td>None</td>\n",
       "      <td>None</td>\n",
       "      <td>None</td>\n",
       "      <td>None</td>\n",
       "      <td>None</td>\n",
       "      <td>None</td>\n",
       "      <td>None</td>\n",
       "      <td>None</td>\n",
       "    </tr>\n",
       "    <tr>\n",
       "      <th>2</th>\n",
       "      <td>alita: battle angel</td>\n",
       "      <td>0</td>\n",
       "      <td>2019</td>\n",
       "      <td>122</td>\n",
       "      <td>Action,Adventure,Sci-Fi</td>\n",
       "      <td>7.3</td>\n",
       "      <td>270061</td>\n",
       "      <td>None</td>\n",
       "      <td>None</td>\n",
       "      <td>None</td>\n",
       "      <td>None</td>\n",
       "      <td>None</td>\n",
       "      <td>None</td>\n",
       "      <td>None</td>\n",
       "      <td>None</td>\n",
       "      <td>None</td>\n",
       "      <td>None</td>\n",
       "      <td>None</td>\n",
       "      <td>None</td>\n",
       "      <td>None</td>\n",
       "      <td>None</td>\n",
       "      <td>None</td>\n",
       "      <td>None</td>\n",
       "    </tr>\n",
       "    <tr>\n",
       "      <th>3</th>\n",
       "      <td>lincoln</td>\n",
       "      <td>0</td>\n",
       "      <td>2012</td>\n",
       "      <td>150</td>\n",
       "      <td>Biography,Drama,History</td>\n",
       "      <td>7.3</td>\n",
       "      <td>262051</td>\n",
       "      <td>None</td>\n",
       "      <td>None</td>\n",
       "      <td>None</td>\n",
       "      <td>None</td>\n",
       "      <td>None</td>\n",
       "      <td>None</td>\n",
       "      <td>None</td>\n",
       "      <td>None</td>\n",
       "      <td>None</td>\n",
       "      <td>None</td>\n",
       "      <td>None</td>\n",
       "      <td>None</td>\n",
       "      <td>None</td>\n",
       "      <td>None</td>\n",
       "      <td>None</td>\n",
       "      <td>None</td>\n",
       "    </tr>\n",
       "  </tbody>\n",
       "</table>\n",
       "</div>"
      ],
      "text/plain": [
       "                      primarytitle  isadult  startyear runtimeminutes  \\\n",
       "0                            wazir        0       2016            103   \n",
       "1  the secret life of walter mitty        0       2013            114   \n",
       "2              alita: battle angel        0       2019            122   \n",
       "3                          lincoln        0       2012            150   \n",
       "\n",
       "                  genres_x averagerating  numvotes    id title  year   age  \\\n",
       "0       Action,Crime,Drama           7.1     19246  None  None  None  None   \n",
       "1   Adventure,Comedy,Drama           7.3    319567  None  None  None  None   \n",
       "2  Action,Adventure,Sci-Fi           7.3    270061  None  None  None  None   \n",
       "3  Biography,Drama,History           7.3    262051  None  None  None  None   \n",
       "\n",
       "   imdb rotten tomatoes netflix  hulu prime video disney+  type directors  \\\n",
       "0  None            None    None  None        None    None  None      None   \n",
       "1  None            None    None  None        None    None  None      None   \n",
       "2  None            None    None  None        None    None  None      None   \n",
       "3  None            None    None  None        None    None  None      None   \n",
       "\n",
       "  genres_y country language runtime  \n",
       "0     None    None     None    None  \n",
       "1     None    None     None    None  \n",
       "2     None    None     None    None  \n",
       "3     None    None     None    None  "
      ]
     },
     "execution_count": 18,
     "metadata": {},
     "output_type": "execute_result"
    }
   ],
   "source": [
    "enriched_movie_df.head(4)"
   ]
  },
  {
   "attachments": {},
   "cell_type": "markdown",
   "metadata": {},
   "source": [
    "## add streaming info column `streaming_on`"
   ]
  },
  {
   "cell_type": "code",
   "execution_count": 20,
   "metadata": {},
   "outputs": [],
   "source": [
    "# if streaming is available on any one of the platforms then its added as streaming_on value:\n",
    "\n",
    "enriched_movie_df['streaming_on'] = np.where(enriched_movie_df['netflix']==1, 'Netflix',\n",
    "                                    np.where(enriched_movie_df['hulu']==1, 'Hulu',\n",
    "                                    np.where(enriched_movie_df['prime video']==1, 'Prime',\n",
    "                                    np.where(enriched_movie_df['disney+']==1, 'Disney+', 'data_unavailable'))))"
   ]
  },
  {
   "cell_type": "code",
   "execution_count": 21,
   "metadata": {},
   "outputs": [],
   "source": [
    "final_enriched_movies_df = enriched_movie_df[['primarytitle', 'isadult', 'language', 'startyear', 'runtimeminutes', 'genres_x', 'averagerating', 'rotten tomatoes', 'numvotes', 'streaming_on']]"
   ]
  },
  {
   "attachments": {},
   "cell_type": "markdown",
   "metadata": {},
   "source": [
    "## rename final output columns:"
   ]
  },
  {
   "cell_type": "code",
   "execution_count": 22,
   "metadata": {},
   "outputs": [],
   "source": [
    "final_enriched_movies_df.columns = ['title', 'is_adult', 'language', 'year', 'runtime_mins', 'genre', 'avg_rating', 'rotten tomatoes', 'num_votes', 'streaming_on']"
   ]
  },
  {
   "cell_type": "code",
   "execution_count": 23,
   "metadata": {},
   "outputs": [
    {
     "data": {
      "text/html": [
       "<div>\n",
       "<style scoped>\n",
       "    .dataframe tbody tr th:only-of-type {\n",
       "        vertical-align: middle;\n",
       "    }\n",
       "\n",
       "    .dataframe tbody tr th {\n",
       "        vertical-align: top;\n",
       "    }\n",
       "\n",
       "    .dataframe thead th {\n",
       "        text-align: right;\n",
       "    }\n",
       "</style>\n",
       "<table border=\"1\" class=\"dataframe\">\n",
       "  <thead>\n",
       "    <tr style=\"text-align: right;\">\n",
       "      <th></th>\n",
       "      <th>title</th>\n",
       "      <th>is_adult</th>\n",
       "      <th>language</th>\n",
       "      <th>year</th>\n",
       "      <th>runtime_mins</th>\n",
       "      <th>genre</th>\n",
       "      <th>avg_rating</th>\n",
       "      <th>rotten tomatoes</th>\n",
       "      <th>num_votes</th>\n",
       "      <th>streaming_on</th>\n",
       "    </tr>\n",
       "  </thead>\n",
       "  <tbody>\n",
       "    <tr>\n",
       "      <th>0</th>\n",
       "      <td>wazir</td>\n",
       "      <td>0</td>\n",
       "      <td>None</td>\n",
       "      <td>2016</td>\n",
       "      <td>103</td>\n",
       "      <td>Action,Crime,Drama</td>\n",
       "      <td>7.1</td>\n",
       "      <td>None</td>\n",
       "      <td>19246</td>\n",
       "      <td>data_unavailable</td>\n",
       "    </tr>\n",
       "    <tr>\n",
       "      <th>1</th>\n",
       "      <td>the secret life of walter mitty</td>\n",
       "      <td>0</td>\n",
       "      <td>None</td>\n",
       "      <td>2013</td>\n",
       "      <td>114</td>\n",
       "      <td>Adventure,Comedy,Drama</td>\n",
       "      <td>7.3</td>\n",
       "      <td>None</td>\n",
       "      <td>319567</td>\n",
       "      <td>data_unavailable</td>\n",
       "    </tr>\n",
       "    <tr>\n",
       "      <th>2</th>\n",
       "      <td>alita: battle angel</td>\n",
       "      <td>0</td>\n",
       "      <td>None</td>\n",
       "      <td>2019</td>\n",
       "      <td>122</td>\n",
       "      <td>Action,Adventure,Sci-Fi</td>\n",
       "      <td>7.3</td>\n",
       "      <td>None</td>\n",
       "      <td>270061</td>\n",
       "      <td>data_unavailable</td>\n",
       "    </tr>\n",
       "    <tr>\n",
       "      <th>3</th>\n",
       "      <td>lincoln</td>\n",
       "      <td>0</td>\n",
       "      <td>None</td>\n",
       "      <td>2012</td>\n",
       "      <td>150</td>\n",
       "      <td>Biography,Drama,History</td>\n",
       "      <td>7.3</td>\n",
       "      <td>None</td>\n",
       "      <td>262051</td>\n",
       "      <td>data_unavailable</td>\n",
       "    </tr>\n",
       "  </tbody>\n",
       "</table>\n",
       "</div>"
      ],
      "text/plain": [
       "                             title  is_adult language  year runtime_mins  \\\n",
       "0                            wazir         0     None  2016          103   \n",
       "1  the secret life of walter mitty         0     None  2013          114   \n",
       "2              alita: battle angel         0     None  2019          122   \n",
       "3                          lincoln         0     None  2012          150   \n",
       "\n",
       "                     genre avg_rating rotten tomatoes  num_votes  \\\n",
       "0       Action,Crime,Drama        7.1            None      19246   \n",
       "1   Adventure,Comedy,Drama        7.3            None     319567   \n",
       "2  Action,Adventure,Sci-Fi        7.3            None     270061   \n",
       "3  Biography,Drama,History        7.3            None     262051   \n",
       "\n",
       "       streaming_on  \n",
       "0  data_unavailable  \n",
       "1  data_unavailable  \n",
       "2  data_unavailable  \n",
       "3  data_unavailable  "
      ]
     },
     "execution_count": 23,
     "metadata": {},
     "output_type": "execute_result"
    }
   ],
   "source": [
    "# view final dataframe:\n",
    "\n",
    "final_enriched_movies_df.head(4)"
   ]
  },
  {
   "attachments": {},
   "cell_type": "markdown",
   "metadata": {},
   "source": [
    "## write the data to excel sorted by `title, year, rating and num_votes`"
   ]
  },
  {
   "cell_type": "code",
   "execution_count": 24,
   "metadata": {},
   "outputs": [
    {
     "name": "stderr",
     "output_type": "stream",
     "text": [
      "/var/folders/9m/b8mn27b56vg91qg2w8t35_pr0000gn/T/ipykernel_1395/2015311796.py:2: SettingWithCopyWarning: \n",
      "A value is trying to be set on a copy of a slice from a DataFrame\n",
      "\n",
      "See the caveats in the documentation: https://pandas.pydata.org/pandas-docs/stable/user_guide/indexing.html#returning-a-view-versus-a-copy\n",
      "  final_enriched_movies_df.sort_values(by=['title', 'year', 'avg_rating', 'num_votes'], ascending=[True, False, False, False], ignore_index=True, inplace=True)\n"
     ]
    }
   ],
   "source": [
    "# sorts title asc, year desc, avg_rating desc and num_votes desc. the change is done inplace and ignoring index of dataframe:\n",
    "final_enriched_movies_df.sort_values(by=['title', 'year', 'avg_rating', 'num_votes'], ascending=[True, False, False, False], ignore_index=True, inplace=True)\n",
    "\n",
    "# write the sorted output to excel file:\n",
    "final_enriched_movies_df.to_excel('./output/imdb_movies_2011_2022.xlsx', header=True, index=None, sheet_name='movies')"
   ]
  },
  {
   "attachments": {},
   "cell_type": "markdown",
   "metadata": {},
   "source": [
    "## Analysis of movies data:"
   ]
  },
  {
   "attachments": {},
   "cell_type": "markdown",
   "metadata": {},
   "source": [
    "#### *movie with maximum votes*"
   ]
  },
  {
   "cell_type": "code",
   "execution_count": 25,
   "metadata": {},
   "outputs": [
    {
     "data": {
      "text/html": [
       "<div>\n",
       "<style scoped>\n",
       "    .dataframe tbody tr th:only-of-type {\n",
       "        vertical-align: middle;\n",
       "    }\n",
       "\n",
       "    .dataframe tbody tr th {\n",
       "        vertical-align: top;\n",
       "    }\n",
       "\n",
       "    .dataframe thead th {\n",
       "        text-align: right;\n",
       "    }\n",
       "</style>\n",
       "<table border=\"1\" class=\"dataframe\">\n",
       "  <thead>\n",
       "    <tr style=\"text-align: right;\">\n",
       "      <th></th>\n",
       "      <th>title</th>\n",
       "      <th>is_adult</th>\n",
       "      <th>language</th>\n",
       "      <th>year</th>\n",
       "      <th>runtime_mins</th>\n",
       "      <th>genre</th>\n",
       "      <th>avg_rating</th>\n",
       "      <th>rotten tomatoes</th>\n",
       "      <th>num_votes</th>\n",
       "      <th>streaming_on</th>\n",
       "    </tr>\n",
       "  </thead>\n",
       "  <tbody>\n",
       "    <tr>\n",
       "      <th>596</th>\n",
       "      <td>interstellar</td>\n",
       "      <td>0</td>\n",
       "      <td>None</td>\n",
       "      <td>2014</td>\n",
       "      <td>169</td>\n",
       "      <td>Adventure,Drama,Sci-Fi</td>\n",
       "      <td>8.6</td>\n",
       "      <td>None</td>\n",
       "      <td>1824217</td>\n",
       "      <td>data_unavailable</td>\n",
       "    </tr>\n",
       "  </tbody>\n",
       "</table>\n",
       "</div>"
      ],
      "text/plain": [
       "            title  is_adult language  year runtime_mins  \\\n",
       "596  interstellar         0     None  2014          169   \n",
       "\n",
       "                      genre avg_rating rotten tomatoes  num_votes  \\\n",
       "596  Adventure,Drama,Sci-Fi        8.6            None    1824217   \n",
       "\n",
       "         streaming_on  \n",
       "596  data_unavailable  "
      ]
     },
     "execution_count": 25,
     "metadata": {},
     "output_type": "execute_result"
    }
   ],
   "source": [
    "final_enriched_movies_df[final_enriched_movies_df['num_votes']==final_enriched_movies_df['num_votes'].max()]"
   ]
  },
  {
   "attachments": {},
   "cell_type": "markdown",
   "metadata": {},
   "source": [
    "#### *movie with highest avg_rating*"
   ]
  },
  {
   "cell_type": "code",
   "execution_count": 26,
   "metadata": {},
   "outputs": [
    {
     "data": {
      "text/html": [
       "<div>\n",
       "<style scoped>\n",
       "    .dataframe tbody tr th:only-of-type {\n",
       "        vertical-align: middle;\n",
       "    }\n",
       "\n",
       "    .dataframe tbody tr th {\n",
       "        vertical-align: top;\n",
       "    }\n",
       "\n",
       "    .dataframe thead th {\n",
       "        text-align: right;\n",
       "    }\n",
       "</style>\n",
       "<table border=\"1\" class=\"dataframe\">\n",
       "  <thead>\n",
       "    <tr style=\"text-align: right;\">\n",
       "      <th></th>\n",
       "      <th>title</th>\n",
       "      <th>is_adult</th>\n",
       "      <th>language</th>\n",
       "      <th>year</th>\n",
       "      <th>runtime_mins</th>\n",
       "      <th>genre</th>\n",
       "      <th>avg_rating</th>\n",
       "      <th>rotten tomatoes</th>\n",
       "      <th>num_votes</th>\n",
       "      <th>streaming_on</th>\n",
       "    </tr>\n",
       "  </thead>\n",
       "  <tbody>\n",
       "    <tr>\n",
       "      <th>710</th>\n",
       "      <td>life is a dream</td>\n",
       "      <td>0</td>\n",
       "      <td>None</td>\n",
       "      <td>2014</td>\n",
       "      <td>81</td>\n",
       "      <td>Documentary,Drama,Family</td>\n",
       "      <td>10.0</td>\n",
       "      <td>None</td>\n",
       "      <td>11661</td>\n",
       "      <td>data_unavailable</td>\n",
       "    </tr>\n",
       "  </tbody>\n",
       "</table>\n",
       "</div>"
      ],
      "text/plain": [
       "               title  is_adult language  year runtime_mins  \\\n",
       "710  life is a dream         0     None  2014           81   \n",
       "\n",
       "                        genre avg_rating rotten tomatoes  num_votes  \\\n",
       "710  Documentary,Drama,Family       10.0            None      11661   \n",
       "\n",
       "         streaming_on  \n",
       "710  data_unavailable  "
      ]
     },
     "execution_count": 26,
     "metadata": {},
     "output_type": "execute_result"
    }
   ],
   "source": [
    "final_enriched_movies_df[final_enriched_movies_df['avg_rating']==final_enriched_movies_df['avg_rating'].max()]"
   ]
  },
  {
   "attachments": {},
   "cell_type": "markdown",
   "metadata": {},
   "source": [
    "#### *Top 10 English movies with rating > 7*"
   ]
  },
  {
   "cell_type": "code",
   "execution_count": 27,
   "metadata": {},
   "outputs": [
    {
     "data": {
      "text/html": [
       "<div>\n",
       "<style scoped>\n",
       "    .dataframe tbody tr th:only-of-type {\n",
       "        vertical-align: middle;\n",
       "    }\n",
       "\n",
       "    .dataframe tbody tr th {\n",
       "        vertical-align: top;\n",
       "    }\n",
       "\n",
       "    .dataframe thead th {\n",
       "        text-align: right;\n",
       "    }\n",
       "</style>\n",
       "<table border=\"1\" class=\"dataframe\">\n",
       "  <thead>\n",
       "    <tr style=\"text-align: right;\">\n",
       "      <th></th>\n",
       "      <th>title</th>\n",
       "      <th>is_adult</th>\n",
       "      <th>language</th>\n",
       "      <th>year</th>\n",
       "      <th>runtime_mins</th>\n",
       "      <th>genre</th>\n",
       "      <th>avg_rating</th>\n",
       "      <th>rotten tomatoes</th>\n",
       "      <th>num_votes</th>\n",
       "      <th>streaming_on</th>\n",
       "    </tr>\n",
       "  </thead>\n",
       "  <tbody>\n",
       "    <tr>\n",
       "      <th>460</th>\n",
       "      <td>for sama</td>\n",
       "      <td>0</td>\n",
       "      <td>Arabic,English</td>\n",
       "      <td>2019</td>\n",
       "      <td>100</td>\n",
       "      <td>Biography,Documentary,War</td>\n",
       "      <td>8.5</td>\n",
       "      <td>99%</td>\n",
       "      <td>11795</td>\n",
       "      <td>Prime</td>\n",
       "    </tr>\n",
       "    <tr>\n",
       "      <th>950</th>\n",
       "      <td>parasite</td>\n",
       "      <td>0</td>\n",
       "      <td>Korean,English</td>\n",
       "      <td>2019</td>\n",
       "      <td>132</td>\n",
       "      <td>Drama,Thriller</td>\n",
       "      <td>8.5</td>\n",
       "      <td>99%</td>\n",
       "      <td>800075</td>\n",
       "      <td>Hulu</td>\n",
       "    </tr>\n",
       "    <tr>\n",
       "      <th>384</th>\n",
       "      <td>django unchained</td>\n",
       "      <td>0</td>\n",
       "      <td>English,German,French,Italian</td>\n",
       "      <td>2012</td>\n",
       "      <td>165</td>\n",
       "      <td>Drama,Western</td>\n",
       "      <td>8.4</td>\n",
       "      <td>87%</td>\n",
       "      <td>1551022</td>\n",
       "      <td>Netflix</td>\n",
       "    </tr>\n",
       "    <tr>\n",
       "      <th>633</th>\n",
       "      <td>joker</td>\n",
       "      <td>0</td>\n",
       "      <td>English</td>\n",
       "      <td>2019</td>\n",
       "      <td>122</td>\n",
       "      <td>Crime,Drama,Thriller</td>\n",
       "      <td>8.4</td>\n",
       "      <td></td>\n",
       "      <td>1279935</td>\n",
       "      <td>Netflix</td>\n",
       "    </tr>\n",
       "    <tr>\n",
       "      <th>311</th>\n",
       "      <td>coco</td>\n",
       "      <td>0</td>\n",
       "      <td>English,Spanish</td>\n",
       "      <td>2017</td>\n",
       "      <td>105</td>\n",
       "      <td>Adventure,Animation,Comedy</td>\n",
       "      <td>8.4</td>\n",
       "      <td>97%</td>\n",
       "      <td>508079</td>\n",
       "      <td>Disney+</td>\n",
       "    </tr>\n",
       "    <tr>\n",
       "      <th>148</th>\n",
       "      <td>avengers: endgame</td>\n",
       "      <td>0</td>\n",
       "      <td>English,Japanese,Xhosa,German</td>\n",
       "      <td>2019</td>\n",
       "      <td>181</td>\n",
       "      <td>Action,Adventure,Drama</td>\n",
       "      <td>8.4</td>\n",
       "      <td>93%</td>\n",
       "      <td>1127350</td>\n",
       "      <td>Disney+</td>\n",
       "    </tr>\n",
       "    <tr>\n",
       "      <th>149</th>\n",
       "      <td>avengers: infinity war</td>\n",
       "      <td>0</td>\n",
       "      <td>English</td>\n",
       "      <td>2018</td>\n",
       "      <td>149</td>\n",
       "      <td>Action,Adventure,Sci-Fi</td>\n",
       "      <td>8.4</td>\n",
       "      <td>84%</td>\n",
       "      <td>1078231</td>\n",
       "      <td>Netflix</td>\n",
       "    </tr>\n",
       "    <tr>\n",
       "      <th>1147</th>\n",
       "      <td>spider-man: into the spider-verse</td>\n",
       "      <td>0</td>\n",
       "      <td>English,Spanish</td>\n",
       "      <td>2018</td>\n",
       "      <td>117</td>\n",
       "      <td>Action,Adventure,Animation</td>\n",
       "      <td>8.4</td>\n",
       "      <td>97%</td>\n",
       "      <td>528701</td>\n",
       "      <td>Netflix</td>\n",
       "    </tr>\n",
       "    <tr>\n",
       "      <th>1619</th>\n",
       "      <td>winter on fire: ukraine's fight for freedom</td>\n",
       "      <td>0</td>\n",
       "      <td>Ukrainian,Russian,English</td>\n",
       "      <td>2015</td>\n",
       "      <td>102</td>\n",
       "      <td>Documentary</td>\n",
       "      <td>8.3</td>\n",
       "      <td>88%</td>\n",
       "      <td>19373</td>\n",
       "      <td>Netflix</td>\n",
       "    </tr>\n",
       "    <tr>\n",
       "      <th>593</th>\n",
       "      <td>inside out</td>\n",
       "      <td>0</td>\n",
       "      <td>English</td>\n",
       "      <td>2015</td>\n",
       "      <td>95</td>\n",
       "      <td>Adventure,Animation,Comedy</td>\n",
       "      <td>8.2</td>\n",
       "      <td>25%</td>\n",
       "      <td>714040</td>\n",
       "      <td>Hulu</td>\n",
       "    </tr>\n",
       "  </tbody>\n",
       "</table>\n",
       "</div>"
      ],
      "text/plain": [
       "                                            title  is_adult  \\\n",
       "460                                      for sama         0   \n",
       "950                                      parasite         0   \n",
       "384                              django unchained         0   \n",
       "633                                         joker         0   \n",
       "311                                          coco         0   \n",
       "148                             avengers: endgame         0   \n",
       "149                        avengers: infinity war         0   \n",
       "1147            spider-man: into the spider-verse         0   \n",
       "1619  winter on fire: ukraine's fight for freedom         0   \n",
       "593                                    inside out         0   \n",
       "\n",
       "                           language  year runtime_mins  \\\n",
       "460                  Arabic,English  2019          100   \n",
       "950                  Korean,English  2019          132   \n",
       "384   English,German,French,Italian  2012          165   \n",
       "633                         English  2019          122   \n",
       "311                 English,Spanish  2017          105   \n",
       "148   English,Japanese,Xhosa,German  2019          181   \n",
       "149                         English  2018          149   \n",
       "1147                English,Spanish  2018          117   \n",
       "1619      Ukrainian,Russian,English  2015          102   \n",
       "593                         English  2015           95   \n",
       "\n",
       "                           genre avg_rating rotten tomatoes  num_votes  \\\n",
       "460    Biography,Documentary,War        8.5             99%      11795   \n",
       "950               Drama,Thriller        8.5             99%     800075   \n",
       "384                Drama,Western        8.4             87%    1551022   \n",
       "633         Crime,Drama,Thriller        8.4                    1279935   \n",
       "311   Adventure,Animation,Comedy        8.4             97%     508079   \n",
       "148       Action,Adventure,Drama        8.4             93%    1127350   \n",
       "149      Action,Adventure,Sci-Fi        8.4             84%    1078231   \n",
       "1147  Action,Adventure,Animation        8.4             97%     528701   \n",
       "1619                 Documentary        8.3             88%      19373   \n",
       "593   Adventure,Animation,Comedy        8.2             25%     714040   \n",
       "\n",
       "     streaming_on  \n",
       "460         Prime  \n",
       "950          Hulu  \n",
       "384       Netflix  \n",
       "633       Netflix  \n",
       "311       Disney+  \n",
       "148       Disney+  \n",
       "149       Netflix  \n",
       "1147      Netflix  \n",
       "1619      Netflix  \n",
       "593          Hulu  "
      ]
     },
     "execution_count": 27,
     "metadata": {},
     "output_type": "execute_result"
    }
   ],
   "source": [
    "final_enriched_movies_df[(final_enriched_movies_df['language'].notna()) & (final_enriched_movies_df['language'].str.contains('english', case=False)) & (final_enriched_movies_df['avg_rating'] > 7.0)].sort_values(by=['avg_rating'], ascending=False).head(10)"
   ]
  },
  {
   "attachments": {},
   "cell_type": "markdown",
   "metadata": {},
   "source": [
    "#### *count of Tamil movies by year which have avg_rating > 7*"
   ]
  },
  {
   "cell_type": "code",
   "execution_count": 28,
   "metadata": {},
   "outputs": [
    {
     "data": {
      "text/html": [
       "<div>\n",
       "<style scoped>\n",
       "    .dataframe tbody tr th:only-of-type {\n",
       "        vertical-align: middle;\n",
       "    }\n",
       "\n",
       "    .dataframe tbody tr th {\n",
       "        vertical-align: top;\n",
       "    }\n",
       "\n",
       "    .dataframe thead th {\n",
       "        text-align: right;\n",
       "    }\n",
       "</style>\n",
       "<table border=\"1\" class=\"dataframe\">\n",
       "  <thead>\n",
       "    <tr style=\"text-align: right;\">\n",
       "      <th></th>\n",
       "      <th>year</th>\n",
       "      <th>counts</th>\n",
       "    </tr>\n",
       "  </thead>\n",
       "  <tbody>\n",
       "    <tr>\n",
       "      <th>0</th>\n",
       "      <td>2012</td>\n",
       "      <td>2</td>\n",
       "    </tr>\n",
       "    <tr>\n",
       "      <th>1</th>\n",
       "      <td>2014</td>\n",
       "      <td>3</td>\n",
       "    </tr>\n",
       "    <tr>\n",
       "      <th>2</th>\n",
       "      <td>2016</td>\n",
       "      <td>2</td>\n",
       "    </tr>\n",
       "    <tr>\n",
       "      <th>3</th>\n",
       "      <td>2017</td>\n",
       "      <td>4</td>\n",
       "    </tr>\n",
       "    <tr>\n",
       "      <th>4</th>\n",
       "      <td>2018</td>\n",
       "      <td>1</td>\n",
       "    </tr>\n",
       "    <tr>\n",
       "      <th>5</th>\n",
       "      <td>2019</td>\n",
       "      <td>1</td>\n",
       "    </tr>\n",
       "    <tr>\n",
       "      <th>6</th>\n",
       "      <td>2020</td>\n",
       "      <td>1</td>\n",
       "    </tr>\n",
       "  </tbody>\n",
       "</table>\n",
       "</div>"
      ],
      "text/plain": [
       "   year  counts\n",
       "0  2012       2\n",
       "1  2014       3\n",
       "2  2016       2\n",
       "3  2017       4\n",
       "4  2018       1\n",
       "5  2019       1\n",
       "6  2020       1"
      ]
     },
     "execution_count": 28,
     "metadata": {},
     "output_type": "execute_result"
    }
   ],
   "source": [
    "final_enriched_movies_df[(final_enriched_movies_df['language'].str.contains('tamil', case=False)) & (final_enriched_movies_df['avg_rating'] > 7.0)]\\\n",
    "    .groupby(by='year')\\\n",
    "        .size()\\\n",
    "            .reset_index(name='counts')"
   ]
  },
  {
   "attachments": {},
   "cell_type": "markdown",
   "metadata": {},
   "source": [
    "#### *movie with highest rotten tomatoes rating*"
   ]
  },
  {
   "cell_type": "code",
   "execution_count": 41,
   "metadata": {},
   "outputs": [
    {
     "data": {
      "text/html": [
       "<div>\n",
       "<style scoped>\n",
       "    .dataframe tbody tr th:only-of-type {\n",
       "        vertical-align: middle;\n",
       "    }\n",
       "\n",
       "    .dataframe tbody tr th {\n",
       "        vertical-align: top;\n",
       "    }\n",
       "\n",
       "    .dataframe thead th {\n",
       "        text-align: right;\n",
       "    }\n",
       "</style>\n",
       "<table border=\"1\" class=\"dataframe\">\n",
       "  <thead>\n",
       "    <tr style=\"text-align: right;\">\n",
       "      <th></th>\n",
       "      <th>title</th>\n",
       "      <th>is_adult</th>\n",
       "      <th>language</th>\n",
       "      <th>year</th>\n",
       "      <th>runtime_mins</th>\n",
       "      <th>genre</th>\n",
       "      <th>avg_rating</th>\n",
       "      <th>rotten tomatoes</th>\n",
       "      <th>num_votes</th>\n",
       "      <th>streaming_on</th>\n",
       "    </tr>\n",
       "  </thead>\n",
       "  <tbody>\n",
       "    <tr>\n",
       "      <th>760</th>\n",
       "      <td>mahanati</td>\n",
       "      <td>0</td>\n",
       "      <td>Telugu,Tamil</td>\n",
       "      <td>2018</td>\n",
       "      <td>177</td>\n",
       "      <td>Biography,Drama</td>\n",
       "      <td>8.5</td>\n",
       "      <td>1.0</td>\n",
       "      <td>13118</td>\n",
       "      <td>Prime</td>\n",
       "    </tr>\n",
       "  </tbody>\n",
       "</table>\n",
       "</div>"
      ],
      "text/plain": [
       "        title  is_adult      language  year runtime_mins            genre  \\\n",
       "760  mahanati         0  Telugu,Tamil  2018          177  Biography,Drama   \n",
       "\n",
       "    avg_rating  rotten tomatoes  num_votes streaming_on  \n",
       "760        8.5              1.0      13118        Prime  "
      ]
     },
     "execution_count": 41,
     "metadata": {},
     "output_type": "execute_result"
    }
   ],
   "source": [
    "final_enriched_movies_df[(final_enriched_movies_df['rotten tomatoes'].notna()) & (final_enriched_movies_df['rotten tomatoes']==final_enriched_movies_df['rotten tomatoes'].max())].sort_values(by=['avg_rating', 'num_votes'], ascending=[False,False]).head(1)"
   ]
  },
  {
   "cell_type": "code",
   "execution_count": null,
   "metadata": {},
   "outputs": [],
   "source": []
  }
 ],
 "metadata": {
  "kernelspec": {
   "display_name": "Python 3",
   "language": "python",
   "name": "python3"
  },
  "language_info": {
   "codemirror_mode": {
    "name": "ipython",
    "version": 3
   },
   "file_extension": ".py",
   "mimetype": "text/x-python",
   "name": "python",
   "nbconvert_exporter": "python",
   "pygments_lexer": "ipython3",
   "version": "3.9.6"
  },
  "orig_nbformat": 4,
  "vscode": {
   "interpreter": {
    "hash": "31f2aee4e71d21fbe5cf8b01ff0e069b9275f58929596ceb00d14d90e3e16cd6"
   }
  }
 },
 "nbformat": 4,
 "nbformat_minor": 2
}
